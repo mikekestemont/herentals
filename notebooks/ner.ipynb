{
 "cells": [
  {
   "cell_type": "markdown",
   "metadata": {},
   "source": [
    "# Named entity recognition"
   ]
  },
  {
   "cell_type": "markdown",
   "metadata": {},
   "source": [
    "## Load ALTO"
   ]
  },
  {
   "cell_type": "code",
   "execution_count": 1,
   "metadata": {},
   "outputs": [],
   "source": [
    "from lxml import etree\n",
    "import sys\n",
    "\n",
    "def alto_parse(alto):\n",
    "    # from: https://github.com/cneud/alto-tools/blob/master/alto_tools.py\n",
    "    \"\"\" Convert ALTO xml file to element tree \"\"\"\n",
    "    try:\n",
    "        xml = etree.parse(alto)\n",
    "    except etree.ParseError as e:\n",
    "        sys.stdout.write('\\nERROR: Failed parsing \"%s\" - '\n",
    "                         % alto.name + str(e))\n",
    "    # http://lxml.de/tutorial.html#namespaces\n",
    "    # Register ALTO namespaces\n",
    "    namespace = {'alto-1': 'http://schema.ccs-gmbh.com/ALTO',\n",
    "                 'alto-2': 'http://www.loc.gov/standards/alto/ns-v2#',\n",
    "                 'alto-3': 'http://www.loc.gov/standards/alto/ns-v3#',\n",
    "                 'alto-4': 'http://www.loc.gov/standards/alto/ns-v4#'}\n",
    "    # Extract namespace from document root\n",
    "    if 'http://' in str(xml.getroot().tag.split('}')[0].strip('{')):\n",
    "        xmlns = xml.getroot().tag.split('}')[0].strip('{')\n",
    "    else:\n",
    "        try:\n",
    "            ns = xml.getroot().attrib\n",
    "            xmlns = str(ns).split(' ')[1].strip('}').strip(\"'\")\n",
    "        except IndexError:\n",
    "            sys.stdout.write('\\nWARNING: File \"%s\": no namespace declaration '\n",
    "                             'found.' % alto.name)\n",
    "            xmlns = 'no_namespace_found'\n",
    "    if xmlns in namespace.values():\n",
    "        return alto, xml, xmlns\n",
    "    else:\n",
    "        sys.stdout.write('\\nWARNING: File \"%s\": namespace is not registered.'\n",
    "                         % alto.name)"
   ]
  },
  {
   "cell_type": "code",
   "execution_count": 2,
   "metadata": {},
   "outputs": [
    {
     "name": "stdout",
     "output_type": "stream",
     "text": [
      "10753\n",
      "['../data/Nieuws_Advertentieblad_XmlOnly/1876/01/alto/CDWd0001_1876_01_01.xml', '../data/Nieuws_Advertentieblad_XmlOnly/1876/01/alto/CDWd0001_1876_01_02.xml', '../data/Nieuws_Advertentieblad_XmlOnly/1876/01/alto/CDWd0001_1876_01_03.xml']\n"
     ]
    }
   ],
   "source": [
    "from glob import glob\n",
    "\n",
    "fns = sorted(list(glob('../data/Nieuws_Advertentieblad_XmlOnly/*/*/alto/*.xml')))\n",
    "print(len(fns))\n",
    "print(fns[:3])"
   ]
  },
  {
   "cell_type": "code",
   "execution_count": 3,
   "metadata": {},
   "outputs": [],
   "source": [
    "fn = fns[99]\n",
    "_, tree, xmlns = alto_parse(fn)"
   ]
  },
  {
   "cell_type": "code",
   "execution_count": 4,
   "metadata": {},
   "outputs": [],
   "source": [
    "def alto_text(xml, xmlns):\n",
    "    # edited from: https://github.com/cneud/alto-tools/blob/master/alto_tools.py\n",
    "    \"\"\" Extract text content from ALTO xml file \"\"\"\n",
    "    # Find all TextLine elements\n",
    "    text = ''\n",
    "    for lines in xml.iterfind('.//{%s}TextLine' % xmlns):\n",
    "        # New line after every TextLine element\n",
    "        text += '\\n'\n",
    "        # Find all String elements\n",
    "        for line in lines.findall('{%s}String' % xmlns):\n",
    "            # Get value of attribute CONTENT from all String elements\n",
    "             text += line.attrib.get('CONTENT') + ' '\n",
    "    return text"
   ]
  },
  {
   "cell_type": "code",
   "execution_count": 5,
   "metadata": {},
   "outputs": [
    {
     "name": "stdout",
     "output_type": "stream",
     "text": [
      "\n",
      "1 ° Meedeel ingen ;  \n",
      "2 * Benoeming van drie leden der deputatie . \n",
      "De zitting wordt ten 1 1/4 ure geheven . \n",
      "Zitting van 6 juli . \n",
      "De zitting wordt geopend ten 10 1/2 ure met de naamoproe \n",
      "ping der leden . \n",
      "M . Reypens , sekrelaris , geeft lezing van het proces-verbaal der \n",
      "vorige zitting . Hetzelve wordt goedgekeurd . \n",
      "MEÊDEEL1NGEN . \n",
      "o . Bet gemeentebestuur van Ressel klaagt over het slecht \n",
      "onderhoud van eenen steenweg . \n",
      "M . VAN CATJWENBERGB vraagt de neerlegging op het bureel \n",
      "gedurende de beraadslaging over het budjet . Aangenomen . \n",
      "b . Verschillende gemeente-besturen vragen eenen steenweg \n",
      "van Viersel , langs Pulderbosch , naar Zoersel . \n",
      "M . ANTHONI vraagt de verzending naar de middensektie . \n",
      "Aangenomen . \n",
      "c . Ret gemeentebestuur van Gierle vraagt de stemming van \n",
      "een reglement om het gebruik van wielen met breede velgen \n",
      "voor te schrijven . \n",
      "MM . GILLES-ROSA en SMOLDEREN vragen de benoeming door \n",
      "het bureel . \n",
      "Deze kommissie wordt samengesteld uit MM . Sraólderen , Em . \n",
      "G\n"
     ]
    }
   ],
   "source": [
    "text = alto_text(tree, xmlns)\n",
    "print(text[:1000])"
   ]
  },
  {
   "cell_type": "code",
   "execution_count": 6,
   "metadata": {},
   "outputs": [
    {
     "name": "stdout",
     "output_type": "stream",
     "text": [
      "1 ° Meedeel ingen ; 2 * Benoeming van drie leden der deputatie . De zitting wordt ten 1 1/4 ure geheven . Zitting van 6 juli . De zitting wordt geopend ten 10 1/2 ure met de naamoproe ping der leden . M . Reypens , sekrelaris , geeft lezing van het proces-verbaal der vorige zitting . Hetzelve wordt goedgekeurd . MEÊDEEL1NGEN . o . Bet gemeentebestuur van Ressel klaagt over het slecht onderhoud van eenen steenweg . M . VAN CATJWENBERGB vraagt de neerlegging op het bureel gedurende de beraadslaging over het budjet . Aangenomen . b . Verschillende gemeente-besturen vragen eenen steenweg van Viersel , langs Pulderbosch , naar Zoersel . M . ANTHONI vraagt de verzending naar de middensektie . Aangenomen . c . Ret gemeentebestuur van Gierle vraagt de stemming van een reglement om het gebruik van wielen met breede velgen voor te schrijven . MM . GILLES-ROSA en SMOLDEREN vragen de benoeming door het bureel . Deze kommissie wordt samengesteld uit MM . Sraólderen , Em . Geelhand , Keysers , Gille\n"
     ]
    }
   ],
   "source": [
    "text = ' '.join(text.split())\n",
    "print(text[:1000])"
   ]
  },
  {
   "cell_type": "code",
   "execution_count": 7,
   "metadata": {},
   "outputs": [],
   "source": [
    "import spacy\n",
    "nlp = spacy.load('nl_core_news_lg')"
   ]
  },
  {
   "cell_type": "code",
   "execution_count": 8,
   "metadata": {},
   "outputs": [
    {
     "name": "stdout",
     "output_type": "stream",
     "text": [
      "1 CARDINAL\n",
      "° \n",
      "Meedeel NORP\n",
      "ingen \n",
      "; \n",
      "2 CARDINAL\n",
      "* \n",
      "Benoeming \n",
      "van \n",
      "drie CARDINAL\n",
      "leden \n",
      "der \n",
      "deputatie \n",
      ". \n",
      "De \n",
      "zitting \n",
      "wordt \n",
      "ten \n",
      "1 CARDINAL\n",
      "1/4 CARDINAL\n",
      "ure \n",
      "geheven \n",
      ". \n",
      "Zitting \n",
      "van \n",
      "6 DATE\n",
      "juli DATE\n",
      ". \n",
      "De \n",
      "zitting \n",
      "wordt \n",
      "geopend \n",
      "ten \n",
      "10 CARDINAL\n",
      "1/2 CARDINAL\n",
      "ure \n",
      "met \n",
      "de \n",
      "naamoproe \n",
      "ping \n",
      "der \n",
      "leden \n",
      ". \n",
      "M \n",
      ". \n",
      "Reypens PERSON\n",
      ", \n",
      "sekrelaris PERSON\n",
      ", \n",
      "geeft \n",
      "lezing \n",
      "van \n",
      "het \n",
      "proces-verbaal \n",
      "der \n",
      "vorige \n",
      "zitting \n",
      ". \n",
      "Hetzelve \n",
      "wordt \n",
      "goedgekeurd \n",
      ". \n",
      "MEÊDEEL1NGEN PERSON\n",
      ". \n",
      "o \n",
      ". \n",
      "Bet \n",
      "gemeentebestuur \n",
      "van \n",
      "Ressel PERSON\n",
      "klaagt \n",
      "over \n",
      "het \n",
      "slecht \n",
      "onderhoud \n",
      "van \n",
      "eenen \n",
      "steenweg \n",
      ". \n",
      "M \n",
      ". \n",
      "VAN \n",
      "CATJWENBERGB \n",
      "vraagt \n",
      "de \n",
      "neerlegging \n",
      "op \n",
      "het \n",
      "bureel \n",
      "gedurende \n",
      "de \n",
      "beraadslaging \n",
      "over \n",
      "het \n",
      "budjet \n",
      ". \n",
      "Aangenomen \n",
      ". \n",
      "b \n",
      ". \n",
      "Verschillende \n",
      "gemeente-besturen \n",
      "vragen \n",
      "eenen \n",
      "steenweg \n",
      "van \n",
      "Viersel GPE\n",
      ", \n",
      "langs \n",
      "Pulderbosch LANGUAGE\n",
      ", \n",
      "naar \n",
      "Zoersel GPE\n",
      ". \n",
      "M \n",
      ". \n",
      "ANTHONI \n",
      "vraagt \n",
      "de \n",
      "verzending \n",
      "naar \n",
      "de \n",
      "middensektie \n",
      ". \n",
      "Aangenomen \n",
      ". \n",
      "c \n",
      ". \n",
      "Ret NORP\n",
      "gemeentebestuur \n",
      "van \n",
      "Gierle \n",
      "vraagt \n",
      "de \n",
      "stemming \n",
      "van \n",
      "een \n",
      "reglement \n",
      "om \n",
      "het \n",
      "gebruik \n",
      "van \n",
      "wielen \n",
      "met \n",
      "breede \n",
      "velgen \n",
      "voor \n",
      "te \n",
      "schrijven \n",
      ". \n",
      "MM ORG\n",
      ". \n",
      "GILLES-ROSA ORG\n",
      "en \n",
      "SMOLDEREN PERSON\n",
      "vragen \n",
      "de \n",
      "benoeming \n",
      "door \n",
      "het \n",
      "bureel \n",
      ". \n",
      "Deze \n",
      "kommissie \n",
      "wordt \n",
      "samengesteld \n",
      "uit \n",
      "MM ORG\n",
      ". \n",
      "Sraólderen \n",
      ", \n",
      "Em PERSON\n",
      ". \n",
      "Geelhand PERSON\n",
      ", \n",
      "Keysers GPE\n",
      ", \n",
      "Gille PERSON\n"
     ]
    }
   ],
   "source": [
    "doc = nlp(text[:1000])\n",
    "\n",
    "for token in doc:\n",
    "    print(token.text, token.ent_type_)"
   ]
  },
  {
   "cell_type": "markdown",
   "metadata": {},
   "source": [
    "## Toponyms"
   ]
  },
  {
   "cell_type": "code",
   "execution_count": 10,
   "metadata": {},
   "outputs": [],
   "source": [
    "import pandas as pd\n",
    "locs = pd.read_excel('../data/ruimte/Output_ruimtelijke context_single_XLSX.xlsx')"
   ]
  },
  {
   "cell_type": "code",
   "execution_count": 11,
   "metadata": {},
   "outputs": [
    {
     "data": {
      "text/plain": [
       "Index(['IN_FID', 'IN_TOPON', 'IN_BRON', 'IN_TIMEFRAME', 'IN_CLASS', 'IN_Id',\n",
       "       'IN_Opm', 'IN_POPULATIE', 'IN_X', 'IN_Y'],\n",
       "      dtype='object')"
      ]
     },
     "execution_count": 11,
     "metadata": {},
     "output_type": "execute_result"
    }
   ],
   "source": [
    "locs.columns"
   ]
  },
  {
   "cell_type": "code",
   "execution_count": 12,
   "metadata": {},
   "outputs": [],
   "source": [
    "names = [l.lower() for l in locs['IN_TOPON']]"
   ]
  },
  {
   "cell_type": "code",
   "execution_count": 14,
   "metadata": {},
   "outputs": [
    {
     "name": "stdout",
     "output_type": "stream",
     "text": [
      "559\n"
     ]
    },
    {
     "data": {
      "text/plain": [
       "['aartselaar',\n",
       " 'antwerpen',\n",
       " 'arendonk',\n",
       " 'balen',\n",
       " 'berendrecht',\n",
       " 'beerse',\n",
       " 'berlaar',\n",
       " 'berchem',\n",
       " 'bevel',\n",
       " 'borgerhout',\n",
       " 'blaasveld',\n",
       " 'boechout',\n",
       " 'bonheiden',\n",
       " 'boom',\n",
       " 'bornem',\n",
       " 'bouwel',\n",
       " 'brasschaat',\n",
       " 'borsbeek',\n",
       " 'breendonk',\n",
       " 'broechem',\n",
       " 'burcht',\n",
       " 'beerzel',\n",
       " 'dessel',\n",
       " 'deurne',\n",
       " 'duffel',\n",
       " 'edegem',\n",
       " 'eindhout',\n",
       " 'emblem',\n",
       " 'essen',\n",
       " 'gestel',\n",
       " 'gierle',\n",
       " 'grobbendonk',\n",
       " 'halle',\n",
       " 'heffen',\n",
       " 'hemiksem',\n",
       " 'herselt',\n",
       " 'hallaar',\n",
       " 'hoboken',\n",
       " 'heist-op-den-berg',\n",
       " 'hoevenen',\n",
       " 'hombeek',\n",
       " 'hoogstraten',\n",
       " 'houtvenne',\n",
       " 'hove',\n",
       " 'herentals',\n",
       " 'hulshout',\n",
       " 'itegem',\n",
       " 'kalmthout',\n",
       " 'kapellen',\n",
       " 'kasterlee',\n",
       " 'kessel',\n",
       " 'koningshooikt',\n",
       " 'kontich',\n",
       " 'leest',\n",
       " 'lichtaart',\n",
       " 'lier',\n",
       " 'lille',\n",
       " 'lint',\n",
       " 'lillo',\n",
       " 'lippelo',\n",
       " 'liezele',\n",
       " 'loenhout',\n",
       " 'mariekerke',\n",
       " 'massenhoven',\n",
       " 'mechelen',\n",
       " 'meer',\n",
       " 'merksem',\n",
       " 'mol',\n",
       " 'mortsel',\n",
       " 'meerhout',\n",
       " 'morkhoven',\n",
       " 'meerle',\n",
       " 'merksplas',\n",
       " 'niel',\n",
       " 'nijlen',\n",
       " 'noorderwijk',\n",
       " 'oelegem',\n",
       " 'olen',\n",
       " 'olmen',\n",
       " 'onze-lieve-vrouw-waver',\n",
       " 'oorderen',\n",
       " 'oostmalle',\n",
       " 'oosterweel',\n",
       " 'oppuurs',\n",
       " 'oud-turnhout',\n",
       " 'poederlee',\n",
       " 'poppel',\n",
       " 'putte',\n",
       " 'puurs',\n",
       " 'ramsel',\n",
       " 'ranst',\n",
       " 'ravels',\n",
       " 'reet',\n",
       " 'retie',\n",
       " 'rijkevorsel',\n",
       " 'rijmenam',\n",
       " 'ruisbroek',\n",
       " 'rumst',\n",
       " 'sint-amands',\n",
       " 'schelle',\n",
       " 'schriek',\n",
       " 'schilde',\n",
       " 'schoten',\n",
       " \"'s-gravenwezel\",\n",
       " \"sint-job-in-'t-goor\",\n",
       " 'sint-katelijne-waver',\n",
       " 'sint-lenaarts',\n",
       " 'stabroek',\n",
       " 'terhagen',\n",
       " 'tielen',\n",
       " 'tisselt',\n",
       " 'turnhout',\n",
       " 'varendonk',\n",
       " 'veerle',\n",
       " 'viersel',\n",
       " 'vlimmeren',\n",
       " 'vorselaar',\n",
       " 'vorst',\n",
       " 'vremde',\n",
       " 'waarloos']"
      ]
     },
     "execution_count": 14,
     "metadata": {},
     "output_type": "execute_result"
    }
   ],
   "source": [
    "print(len(names))\n",
    "names[:120]"
   ]
  },
  {
   "cell_type": "code",
   "execution_count": 24,
   "metadata": {},
   "outputs": [],
   "source": [
    "import os\n",
    "import shutil\n",
    "\n",
    "def clean_dir(d):\n",
    "    try:\n",
    "        shutil.rmtree(d)\n",
    "    except FileNotFoundError:\n",
    "        pass\n",
    "    os.mkdir(d)"
   ]
  },
  {
   "cell_type": "code",
   "execution_count": 33,
   "metadata": {},
   "outputs": [],
   "source": [
    "od = '../data/ner_out'\n",
    "clean_dir(od)"
   ]
  },
  {
   "cell_type": "code",
   "execution_count": 34,
   "metadata": {},
   "outputs": [],
   "source": [
    "import random\n",
    "random.shuffle(fns)\n",
    "fns_sample = fns[:500]"
   ]
  },
  {
   "cell_type": "code",
   "execution_count": 35,
   "metadata": {},
   "outputs": [
    {
     "name": "stderr",
     "output_type": "stream",
     "text": [
      "100%|██████████| 500/500 [11:32<00:00,  1.39s/it]\n"
     ]
    }
   ],
   "source": [
    "import tqdm\n",
    "for fn in tqdm.tqdm(fns_sample):\n",
    "    bn = os.path.basename(fn).replace('.xml', '')\n",
    "    try:\n",
    "        _, tree, xmlns = alto_parse(fn)\n",
    "        text = alto_text(tree, xmlns)\n",
    "    except:\n",
    "        pass\n",
    "    tokens = []\n",
    "    for token in nlp(text):\n",
    "        hit = False\n",
    "        if token.text.lower() in names:\n",
    "            hit = True\n",
    "        tokens.append((token.text, token.ent_type_, hit))\n",
    "    df = pd.DataFrame(tokens, columns=('token', 'entity', 'geo'))\n",
    "    df.to_excel(f'{od}/{bn}.xlsx')"
   ]
  },
  {
   "cell_type": "markdown",
   "metadata": {},
   "source": [
    "## Plot"
   ]
  },
  {
   "cell_type": "code",
   "execution_count": null,
   "metadata": {},
   "outputs": [],
   "source": [
    "for fn in list(glob.glob(f'{d}/*.xlsx'))[:10]:\n",
    "    print(f)\n",
    "    loc = df.read_excel(fn)"
   ]
  }
 ],
 "metadata": {
  "kernelspec": {
   "display_name": "Python (n36)",
   "language": "python",
   "name": "n36"
  },
  "language_info": {
   "codemirror_mode": {
    "name": "ipython",
    "version": 3
   },
   "file_extension": ".py",
   "mimetype": "text/x-python",
   "name": "python",
   "nbconvert_exporter": "python",
   "pygments_lexer": "ipython3",
   "version": "3.6.10"
  }
 },
 "nbformat": 4,
 "nbformat_minor": 4
}
